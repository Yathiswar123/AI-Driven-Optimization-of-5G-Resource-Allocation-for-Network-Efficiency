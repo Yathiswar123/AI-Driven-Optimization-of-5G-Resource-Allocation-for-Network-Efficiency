{
 "cells": [
  {
   "cell_type": "markdown",
   "id": "458321ec",
   "metadata": {},
   "source": [
    "# Importing Data"
   ]
  },
  {
   "cell_type": "code",
   "execution_count": 27,
   "id": "c58e9f60",
   "metadata": {},
   "outputs": [
    {
     "data": {
      "text/html": [
       "<div>\n",
       "<style scoped>\n",
       "    .dataframe tbody tr th:only-of-type {\n",
       "        vertical-align: middle;\n",
       "    }\n",
       "\n",
       "    .dataframe tbody tr th {\n",
       "        vertical-align: top;\n",
       "    }\n",
       "\n",
       "    .dataframe thead th {\n",
       "        text-align: right;\n",
       "    }\n",
       "</style>\n",
       "<table border=\"1\" class=\"dataframe\">\n",
       "  <thead>\n",
       "    <tr style=\"text-align: right;\">\n",
       "      <th></th>\n",
       "      <th>Timestamp</th>\n",
       "      <th>User_ID</th>\n",
       "      <th>Application_Type</th>\n",
       "      <th>Signal_Strength</th>\n",
       "      <th>Latency</th>\n",
       "      <th>Required_Bandwidth</th>\n",
       "      <th>Allocated_Bandwidth</th>\n",
       "      <th>Resource_Allocation</th>\n",
       "    </tr>\n",
       "  </thead>\n",
       "  <tbody>\n",
       "    <tr>\n",
       "      <th>0</th>\n",
       "      <td>9/3/2023 10:00</td>\n",
       "      <td>User_1</td>\n",
       "      <td>Video_Call</td>\n",
       "      <td>-75 dBm</td>\n",
       "      <td>30 ms</td>\n",
       "      <td>10 Mbps</td>\n",
       "      <td>15 Mbps</td>\n",
       "      <td>70%</td>\n",
       "    </tr>\n",
       "    <tr>\n",
       "      <th>1</th>\n",
       "      <td>9/3/2023 10:00</td>\n",
       "      <td>User_2</td>\n",
       "      <td>Voice_Call</td>\n",
       "      <td>-80 dBm</td>\n",
       "      <td>20 ms</td>\n",
       "      <td>100 Kbps</td>\n",
       "      <td>120 Kbps</td>\n",
       "      <td>80%</td>\n",
       "    </tr>\n",
       "    <tr>\n",
       "      <th>2</th>\n",
       "      <td>9/3/2023 10:00</td>\n",
       "      <td>User_3</td>\n",
       "      <td>Streaming</td>\n",
       "      <td>-85 dBm</td>\n",
       "      <td>40 ms</td>\n",
       "      <td>5 Mbps</td>\n",
       "      <td>6 Mbps</td>\n",
       "      <td>75%</td>\n",
       "    </tr>\n",
       "    <tr>\n",
       "      <th>3</th>\n",
       "      <td>9/3/2023 10:00</td>\n",
       "      <td>User_4</td>\n",
       "      <td>Emergency_Service</td>\n",
       "      <td>-70 dBm</td>\n",
       "      <td>10 ms</td>\n",
       "      <td>1 Mbps</td>\n",
       "      <td>1.5 Mbps</td>\n",
       "      <td>90%</td>\n",
       "    </tr>\n",
       "    <tr>\n",
       "      <th>4</th>\n",
       "      <td>9/3/2023 10:00</td>\n",
       "      <td>User_5</td>\n",
       "      <td>Online_Gaming</td>\n",
       "      <td>-78 dBm</td>\n",
       "      <td>25 ms</td>\n",
       "      <td>2 Mbps</td>\n",
       "      <td>3 Mbps</td>\n",
       "      <td>85%</td>\n",
       "    </tr>\n",
       "    <tr>\n",
       "      <th>...</th>\n",
       "      <td>...</td>\n",
       "      <td>...</td>\n",
       "      <td>...</td>\n",
       "      <td>...</td>\n",
       "      <td>...</td>\n",
       "      <td>...</td>\n",
       "      <td>...</td>\n",
       "      <td>...</td>\n",
       "    </tr>\n",
       "    <tr>\n",
       "      <th>395</th>\n",
       "      <td>9/3/2023 10:06</td>\n",
       "      <td>User_396</td>\n",
       "      <td>Streaming</td>\n",
       "      <td>-110 dBm</td>\n",
       "      <td>61 ms</td>\n",
       "      <td>1.3 Mbps</td>\n",
       "      <td>1.8 Mbps</td>\n",
       "      <td>85%</td>\n",
       "    </tr>\n",
       "    <tr>\n",
       "      <th>396</th>\n",
       "      <td>9/3/2023 10:06</td>\n",
       "      <td>User_397</td>\n",
       "      <td>Video_Call</td>\n",
       "      <td>-40 dBm</td>\n",
       "      <td>53 ms</td>\n",
       "      <td>14.5 Mbps</td>\n",
       "      <td>15.8 Mbps</td>\n",
       "      <td>75%</td>\n",
       "    </tr>\n",
       "    <tr>\n",
       "      <th>397</th>\n",
       "      <td>9/3/2023 10:06</td>\n",
       "      <td>User_398</td>\n",
       "      <td>Video_Streaming</td>\n",
       "      <td>-113 dBm</td>\n",
       "      <td>58 ms</td>\n",
       "      <td>1.0 Mbps</td>\n",
       "      <td>1.4 Mbps</td>\n",
       "      <td>70%</td>\n",
       "    </tr>\n",
       "    <tr>\n",
       "      <th>398</th>\n",
       "      <td>9/3/2023 10:06</td>\n",
       "      <td>User_399</td>\n",
       "      <td>Emergency_Service</td>\n",
       "      <td>-40 dBm</td>\n",
       "      <td>5 ms</td>\n",
       "      <td>0.4 Mbps</td>\n",
       "      <td>0.4 Mbps</td>\n",
       "      <td>70%</td>\n",
       "    </tr>\n",
       "    <tr>\n",
       "      <th>399</th>\n",
       "      <td>9/3/2023 10:06</td>\n",
       "      <td>User_400</td>\n",
       "      <td>Web_Browsing</td>\n",
       "      <td>-113 dBm</td>\n",
       "      <td>0 ms</td>\n",
       "      <td>0.1 Mbps</td>\n",
       "      <td>0.1 Mbps</td>\n",
       "      <td>70%</td>\n",
       "    </tr>\n",
       "  </tbody>\n",
       "</table>\n",
       "<p>400 rows × 8 columns</p>\n",
       "</div>"
      ],
      "text/plain": [
       "          Timestamp   User_ID   Application_Type Signal_Strength Latency  \\\n",
       "0    9/3/2023 10:00    User_1         Video_Call         -75 dBm   30 ms   \n",
       "1    9/3/2023 10:00    User_2         Voice_Call         -80 dBm   20 ms   \n",
       "2    9/3/2023 10:00    User_3          Streaming         -85 dBm   40 ms   \n",
       "3    9/3/2023 10:00    User_4  Emergency_Service         -70 dBm   10 ms   \n",
       "4    9/3/2023 10:00    User_5      Online_Gaming         -78 dBm   25 ms   \n",
       "..              ...       ...                ...             ...     ...   \n",
       "395  9/3/2023 10:06  User_396          Streaming        -110 dBm   61 ms   \n",
       "396  9/3/2023 10:06  User_397         Video_Call         -40 dBm   53 ms   \n",
       "397  9/3/2023 10:06  User_398    Video_Streaming        -113 dBm   58 ms   \n",
       "398  9/3/2023 10:06  User_399  Emergency_Service         -40 dBm    5 ms   \n",
       "399  9/3/2023 10:06  User_400       Web_Browsing        -113 dBm    0 ms   \n",
       "\n",
       "    Required_Bandwidth Allocated_Bandwidth Resource_Allocation  \n",
       "0              10 Mbps             15 Mbps                 70%  \n",
       "1             100 Kbps            120 Kbps                 80%  \n",
       "2               5 Mbps              6 Mbps                 75%  \n",
       "3               1 Mbps            1.5 Mbps                 90%  \n",
       "4               2 Mbps              3 Mbps                 85%  \n",
       "..                 ...                 ...                 ...  \n",
       "395           1.3 Mbps            1.8 Mbps                 85%  \n",
       "396          14.5 Mbps           15.8 Mbps                 75%  \n",
       "397           1.0 Mbps            1.4 Mbps                 70%  \n",
       "398           0.4 Mbps            0.4 Mbps                 70%  \n",
       "399           0.1 Mbps            0.1 Mbps                 70%  \n",
       "\n",
       "[400 rows x 8 columns]"
      ]
     },
     "execution_count": 27,
     "metadata": {},
     "output_type": "execute_result"
    }
   ],
   "source": [
    "import pandas as pd\n",
    "import numpy as np\n",
    "import seaborn as sns\n",
    "import matplotlib.pyplot as plot\n",
    "data = pd.read_csv(\"Quality of Service 5G.csv\")\n",
    "data"
   ]
  },
  {
   "cell_type": "markdown",
   "id": "3a7e858b",
   "metadata": {},
   "source": [
    "# Data Pre-Processing"
   ]
  },
  {
   "cell_type": "code",
   "execution_count": 28,
   "id": "758d439f",
   "metadata": {},
   "outputs": [
    {
     "name": "stdout",
     "output_type": "stream",
     "text": [
      "<class 'pandas.core.frame.DataFrame'>\n",
      "RangeIndex: 400 entries, 0 to 399\n",
      "Data columns (total 8 columns):\n",
      " #   Column               Non-Null Count  Dtype \n",
      "---  ------               --------------  ----- \n",
      " 0   Timestamp            400 non-null    object\n",
      " 1   User_ID              400 non-null    object\n",
      " 2   Application_Type     400 non-null    object\n",
      " 3   Signal_Strength      400 non-null    object\n",
      " 4   Latency              400 non-null    object\n",
      " 5   Required_Bandwidth   400 non-null    object\n",
      " 6   Allocated_Bandwidth  400 non-null    object\n",
      " 7   Resource_Allocation  400 non-null    object\n",
      "dtypes: object(8)\n",
      "memory usage: 25.1+ KB\n"
     ]
    }
   ],
   "source": [
    "data.info()"
   ]
  },
  {
   "cell_type": "code",
   "execution_count": 29,
   "id": "aeee9fe4",
   "metadata": {},
   "outputs": [
    {
     "data": {
      "text/plain": [
       "Timestamp              False\n",
       "User_ID                False\n",
       "Application_Type       False\n",
       "Signal_Strength        False\n",
       "Latency                False\n",
       "Required_Bandwidth     False\n",
       "Allocated_Bandwidth    False\n",
       "Resource_Allocation    False\n",
       "dtype: bool"
      ]
     },
     "execution_count": 29,
     "metadata": {},
     "output_type": "execute_result"
    }
   ],
   "source": [
    "data.isnull().any()"
   ]
  },
  {
   "cell_type": "code",
   "execution_count": 30,
   "id": "051b71ac",
   "metadata": {},
   "outputs": [
    {
     "data": {
      "text/html": [
       "<div>\n",
       "<style scoped>\n",
       "    .dataframe tbody tr th:only-of-type {\n",
       "        vertical-align: middle;\n",
       "    }\n",
       "\n",
       "    .dataframe tbody tr th {\n",
       "        vertical-align: top;\n",
       "    }\n",
       "\n",
       "    .dataframe thead th {\n",
       "        text-align: right;\n",
       "    }\n",
       "</style>\n",
       "<table border=\"1\" class=\"dataframe\">\n",
       "  <thead>\n",
       "    <tr style=\"text-align: right;\">\n",
       "      <th></th>\n",
       "      <th>Timestamp</th>\n",
       "      <th>User_ID</th>\n",
       "      <th>Application_Type</th>\n",
       "      <th>Signal_Strength</th>\n",
       "      <th>Latency</th>\n",
       "      <th>Required_Bandwidth</th>\n",
       "      <th>Allocated_Bandwidth</th>\n",
       "      <th>Resource_Allocation</th>\n",
       "    </tr>\n",
       "  </thead>\n",
       "  <tbody>\n",
       "    <tr>\n",
       "      <th>count</th>\n",
       "      <td>400</td>\n",
       "      <td>400</td>\n",
       "      <td>400</td>\n",
       "      <td>400</td>\n",
       "      <td>400</td>\n",
       "      <td>400</td>\n",
       "      <td>400</td>\n",
       "      <td>400</td>\n",
       "    </tr>\n",
       "    <tr>\n",
       "      <th>unique</th>\n",
       "      <td>7</td>\n",
       "      <td>400</td>\n",
       "      <td>11</td>\n",
       "      <td>84</td>\n",
       "      <td>87</td>\n",
       "      <td>188</td>\n",
       "      <td>194</td>\n",
       "      <td>9</td>\n",
       "    </tr>\n",
       "    <tr>\n",
       "      <th>top</th>\n",
       "      <td>9/3/2023 10:01</td>\n",
       "      <td>User_1</td>\n",
       "      <td>Video_Call</td>\n",
       "      <td>-97 dBm</td>\n",
       "      <td>5 ms</td>\n",
       "      <td>0.1 Mbps</td>\n",
       "      <td>0.1 Mbps</td>\n",
       "      <td>70%</td>\n",
       "    </tr>\n",
       "    <tr>\n",
       "      <th>freq</th>\n",
       "      <td>60</td>\n",
       "      <td>1</td>\n",
       "      <td>58</td>\n",
       "      <td>9</td>\n",
       "      <td>35</td>\n",
       "      <td>16</td>\n",
       "      <td>16</td>\n",
       "      <td>148</td>\n",
       "    </tr>\n",
       "  </tbody>\n",
       "</table>\n",
       "</div>"
      ],
      "text/plain": [
       "             Timestamp User_ID Application_Type Signal_Strength Latency  \\\n",
       "count              400     400              400             400     400   \n",
       "unique               7     400               11              84      87   \n",
       "top     9/3/2023 10:01  User_1       Video_Call         -97 dBm    5 ms   \n",
       "freq                60       1               58               9      35   \n",
       "\n",
       "       Required_Bandwidth Allocated_Bandwidth Resource_Allocation  \n",
       "count                 400                 400                 400  \n",
       "unique                188                 194                   9  \n",
       "top              0.1 Mbps            0.1 Mbps                 70%  \n",
       "freq                   16                  16                 148  "
      ]
     },
     "execution_count": 30,
     "metadata": {},
     "output_type": "execute_result"
    }
   ],
   "source": [
    "data.describe()"
   ]
  },
  {
   "cell_type": "code",
   "execution_count": null,
   "id": "cc16e083",
   "metadata": {},
   "outputs": [],
   "source": []
  },
  {
   "cell_type": "code",
   "execution_count": 31,
   "id": "5e47fa10",
   "metadata": {},
   "outputs": [
    {
     "data": {
      "text/plain": [
       "array(['Video_Call', 'Voice_Call', 'Streaming', 'Emergency_Service',\n",
       "       'Online_Gaming', 'Background_Download', 'Web_Browsing',\n",
       "       'IoT_Temperature', 'Video_Streaming', 'File_Download', 'VoIP_Call'],\n",
       "      dtype=object)"
      ]
     },
     "execution_count": 31,
     "metadata": {},
     "output_type": "execute_result"
    }
   ],
   "source": [
    "data['Application_Type'].unique()"
   ]
  },
  {
   "cell_type": "code",
   "execution_count": 32,
   "id": "1553bcc2",
   "metadata": {},
   "outputs": [],
   "source": [
    "from sklearn.preprocessing import OrdinalEncoder\n",
    "encoder = OrdinalEncoder()\n",
    "data['Application_Type'] = encoder.fit_transform(np.array(data['Application_Type']).reshape(-1,1))"
   ]
  },
  {
   "cell_type": "code",
   "execution_count": 33,
   "id": "3de0a066",
   "metadata": {},
   "outputs": [],
   "source": [
    "import pickle \n",
    "pickle.dump(encoder,open(\"encoder 5g\",\"wb\"))"
   ]
  },
  {
   "cell_type": "code",
   "execution_count": 34,
   "id": "64564096",
   "metadata": {},
   "outputs": [
    {
     "data": {
      "text/plain": [
       "array([ 6.,  9.,  5.,  1.,  4.,  0., 10.,  3.,  7.,  2.,  8.])"
      ]
     },
     "execution_count": 34,
     "metadata": {},
     "output_type": "execute_result"
    }
   ],
   "source": [
    "data['Application_Type'].unique()"
   ]
  },
  {
   "cell_type": "code",
   "execution_count": 35,
   "id": "44cf19cf",
   "metadata": {},
   "outputs": [],
   "source": [
    "data['Resource_Allocation'] = data['Resource_Allocation'].str.replace('%','').astype('int')"
   ]
  },
  {
   "cell_type": "code",
   "execution_count": 36,
   "id": "0cebb19a",
   "metadata": {},
   "outputs": [],
   "source": [
    "data['User_ID'] = data['User_ID'].str.replace('User_','').astype('int')"
   ]
  },
  {
   "cell_type": "code",
   "execution_count": 37,
   "id": "fc435c32",
   "metadata": {},
   "outputs": [],
   "source": [
    "def Mbps_to_Kbps(value):\n",
    "    if 'Mbps' in value:\n",
    "        n = float(value.replace(' Mbps',''))\n",
    "        return str(n*1000)+ ' Kbps'\n",
    "    else:\n",
    "        return value"
   ]
  },
  {
   "cell_type": "code",
   "execution_count": 38,
   "id": "24a2805d",
   "metadata": {},
   "outputs": [],
   "source": [
    "data['Required_Bandwidth'] = data['Required_Bandwidth'].map(Mbps_to_Kbps)\n",
    "data['Allocated_Bandwidth'] = data['Allocated_Bandwidth'].map(Mbps_to_Kbps)"
   ]
  },
  {
   "cell_type": "code",
   "execution_count": 39,
   "id": "1cdde077",
   "metadata": {},
   "outputs": [],
   "source": [
    "data['Required_Bandwidth'] = data['Required_Bandwidth'].str.replace('Kbps','').astype('float')\n",
    "data['Allocated_Bandwidth'] = data['Allocated_Bandwidth'].str.replace('Kbps','').astype('float')"
   ]
  },
  {
   "cell_type": "code",
   "execution_count": 40,
   "id": "5cb415aa",
   "metadata": {},
   "outputs": [],
   "source": [
    "data['Latency'] = data['Latency'].str.replace('ms','').astype('int')\n",
    "data['Signal_Strength'] = data['Signal_Strength'].str.replace('dBm','').astype('int')"
   ]
  },
  {
   "cell_type": "code",
   "execution_count": 41,
   "id": "1e06cdc5",
   "metadata": {},
   "outputs": [],
   "source": [
    "data['Timestamp']= pd.to_datetime(data['Timestamp'])"
   ]
  },
  {
   "cell_type": "code",
   "execution_count": 42,
   "id": "55058296",
   "metadata": {},
   "outputs": [
    {
     "data": {
      "text/html": [
       "<div>\n",
       "<style scoped>\n",
       "    .dataframe tbody tr th:only-of-type {\n",
       "        vertical-align: middle;\n",
       "    }\n",
       "\n",
       "    .dataframe tbody tr th {\n",
       "        vertical-align: top;\n",
       "    }\n",
       "\n",
       "    .dataframe thead th {\n",
       "        text-align: right;\n",
       "    }\n",
       "</style>\n",
       "<table border=\"1\" class=\"dataframe\">\n",
       "  <thead>\n",
       "    <tr style=\"text-align: right;\">\n",
       "      <th></th>\n",
       "      <th>Timestamp</th>\n",
       "      <th>User_ID</th>\n",
       "      <th>Application_Type</th>\n",
       "      <th>Signal_Strength</th>\n",
       "      <th>Latency</th>\n",
       "      <th>Required_Bandwidth</th>\n",
       "      <th>Allocated_Bandwidth</th>\n",
       "      <th>Resource_Allocation</th>\n",
       "    </tr>\n",
       "  </thead>\n",
       "  <tbody>\n",
       "    <tr>\n",
       "      <th>0</th>\n",
       "      <td>2023-09-03 10:00:00</td>\n",
       "      <td>1</td>\n",
       "      <td>6.0</td>\n",
       "      <td>-75</td>\n",
       "      <td>30</td>\n",
       "      <td>10000.0</td>\n",
       "      <td>15000.0</td>\n",
       "      <td>70</td>\n",
       "    </tr>\n",
       "    <tr>\n",
       "      <th>1</th>\n",
       "      <td>2023-09-03 10:00:00</td>\n",
       "      <td>2</td>\n",
       "      <td>9.0</td>\n",
       "      <td>-80</td>\n",
       "      <td>20</td>\n",
       "      <td>100.0</td>\n",
       "      <td>120.0</td>\n",
       "      <td>80</td>\n",
       "    </tr>\n",
       "    <tr>\n",
       "      <th>2</th>\n",
       "      <td>2023-09-03 10:00:00</td>\n",
       "      <td>3</td>\n",
       "      <td>5.0</td>\n",
       "      <td>-85</td>\n",
       "      <td>40</td>\n",
       "      <td>5000.0</td>\n",
       "      <td>6000.0</td>\n",
       "      <td>75</td>\n",
       "    </tr>\n",
       "    <tr>\n",
       "      <th>3</th>\n",
       "      <td>2023-09-03 10:00:00</td>\n",
       "      <td>4</td>\n",
       "      <td>1.0</td>\n",
       "      <td>-70</td>\n",
       "      <td>10</td>\n",
       "      <td>1000.0</td>\n",
       "      <td>1500.0</td>\n",
       "      <td>90</td>\n",
       "    </tr>\n",
       "    <tr>\n",
       "      <th>4</th>\n",
       "      <td>2023-09-03 10:00:00</td>\n",
       "      <td>5</td>\n",
       "      <td>4.0</td>\n",
       "      <td>-78</td>\n",
       "      <td>25</td>\n",
       "      <td>2000.0</td>\n",
       "      <td>3000.0</td>\n",
       "      <td>85</td>\n",
       "    </tr>\n",
       "    <tr>\n",
       "      <th>...</th>\n",
       "      <td>...</td>\n",
       "      <td>...</td>\n",
       "      <td>...</td>\n",
       "      <td>...</td>\n",
       "      <td>...</td>\n",
       "      <td>...</td>\n",
       "      <td>...</td>\n",
       "      <td>...</td>\n",
       "    </tr>\n",
       "    <tr>\n",
       "      <th>395</th>\n",
       "      <td>2023-09-03 10:06:00</td>\n",
       "      <td>396</td>\n",
       "      <td>5.0</td>\n",
       "      <td>-110</td>\n",
       "      <td>61</td>\n",
       "      <td>1300.0</td>\n",
       "      <td>1800.0</td>\n",
       "      <td>85</td>\n",
       "    </tr>\n",
       "    <tr>\n",
       "      <th>396</th>\n",
       "      <td>2023-09-03 10:06:00</td>\n",
       "      <td>397</td>\n",
       "      <td>6.0</td>\n",
       "      <td>-40</td>\n",
       "      <td>53</td>\n",
       "      <td>14500.0</td>\n",
       "      <td>15800.0</td>\n",
       "      <td>75</td>\n",
       "    </tr>\n",
       "    <tr>\n",
       "      <th>397</th>\n",
       "      <td>2023-09-03 10:06:00</td>\n",
       "      <td>398</td>\n",
       "      <td>7.0</td>\n",
       "      <td>-113</td>\n",
       "      <td>58</td>\n",
       "      <td>1000.0</td>\n",
       "      <td>1400.0</td>\n",
       "      <td>70</td>\n",
       "    </tr>\n",
       "    <tr>\n",
       "      <th>398</th>\n",
       "      <td>2023-09-03 10:06:00</td>\n",
       "      <td>399</td>\n",
       "      <td>1.0</td>\n",
       "      <td>-40</td>\n",
       "      <td>5</td>\n",
       "      <td>400.0</td>\n",
       "      <td>400.0</td>\n",
       "      <td>70</td>\n",
       "    </tr>\n",
       "    <tr>\n",
       "      <th>399</th>\n",
       "      <td>2023-09-03 10:06:00</td>\n",
       "      <td>400</td>\n",
       "      <td>10.0</td>\n",
       "      <td>-113</td>\n",
       "      <td>0</td>\n",
       "      <td>100.0</td>\n",
       "      <td>100.0</td>\n",
       "      <td>70</td>\n",
       "    </tr>\n",
       "  </tbody>\n",
       "</table>\n",
       "<p>400 rows × 8 columns</p>\n",
       "</div>"
      ],
      "text/plain": [
       "              Timestamp  User_ID  Application_Type  Signal_Strength  Latency  \\\n",
       "0   2023-09-03 10:00:00        1               6.0              -75       30   \n",
       "1   2023-09-03 10:00:00        2               9.0              -80       20   \n",
       "2   2023-09-03 10:00:00        3               5.0              -85       40   \n",
       "3   2023-09-03 10:00:00        4               1.0              -70       10   \n",
       "4   2023-09-03 10:00:00        5               4.0              -78       25   \n",
       "..                  ...      ...               ...              ...      ...   \n",
       "395 2023-09-03 10:06:00      396               5.0             -110       61   \n",
       "396 2023-09-03 10:06:00      397               6.0              -40       53   \n",
       "397 2023-09-03 10:06:00      398               7.0             -113       58   \n",
       "398 2023-09-03 10:06:00      399               1.0              -40        5   \n",
       "399 2023-09-03 10:06:00      400              10.0             -113        0   \n",
       "\n",
       "     Required_Bandwidth  Allocated_Bandwidth  Resource_Allocation  \n",
       "0               10000.0              15000.0                   70  \n",
       "1                 100.0                120.0                   80  \n",
       "2                5000.0               6000.0                   75  \n",
       "3                1000.0               1500.0                   90  \n",
       "4                2000.0               3000.0                   85  \n",
       "..                  ...                  ...                  ...  \n",
       "395              1300.0               1800.0                   85  \n",
       "396             14500.0              15800.0                   75  \n",
       "397              1000.0               1400.0                   70  \n",
       "398               400.0                400.0                   70  \n",
       "399               100.0                100.0                   70  \n",
       "\n",
       "[400 rows x 8 columns]"
      ]
     },
     "execution_count": 42,
     "metadata": {},
     "output_type": "execute_result"
    }
   ],
   "source": [
    "data"
   ]
  },
  {
   "cell_type": "code",
   "execution_count": 43,
   "id": "09e4ea00",
   "metadata": {},
   "outputs": [
    {
     "name": "stdout",
     "output_type": "stream",
     "text": [
      "<class 'pandas.core.frame.DataFrame'>\n",
      "RangeIndex: 400 entries, 0 to 399\n",
      "Data columns (total 8 columns):\n",
      " #   Column               Non-Null Count  Dtype         \n",
      "---  ------               --------------  -----         \n",
      " 0   Timestamp            400 non-null    datetime64[ns]\n",
      " 1   User_ID              400 non-null    int32         \n",
      " 2   Application_Type     400 non-null    float64       \n",
      " 3   Signal_Strength      400 non-null    int32         \n",
      " 4   Latency              400 non-null    int32         \n",
      " 5   Required_Bandwidth   400 non-null    float64       \n",
      " 6   Allocated_Bandwidth  400 non-null    float64       \n",
      " 7   Resource_Allocation  400 non-null    int32         \n",
      "dtypes: datetime64[ns](1), float64(3), int32(4)\n",
      "memory usage: 18.9 KB\n"
     ]
    }
   ],
   "source": [
    "data.info()"
   ]
  },
  {
   "cell_type": "code",
   "execution_count": 44,
   "id": "a78ff751",
   "metadata": {},
   "outputs": [
    {
     "data": {
      "text/html": [
       "<div>\n",
       "<style scoped>\n",
       "    .dataframe tbody tr th:only-of-type {\n",
       "        vertical-align: middle;\n",
       "    }\n",
       "\n",
       "    .dataframe tbody tr th {\n",
       "        vertical-align: top;\n",
       "    }\n",
       "\n",
       "    .dataframe thead th {\n",
       "        text-align: right;\n",
       "    }\n",
       "</style>\n",
       "<table border=\"1\" class=\"dataframe\">\n",
       "  <thead>\n",
       "    <tr style=\"text-align: right;\">\n",
       "      <th></th>\n",
       "      <th>User_ID</th>\n",
       "      <th>Application_Type</th>\n",
       "      <th>Signal_Strength</th>\n",
       "      <th>Latency</th>\n",
       "      <th>Required_Bandwidth</th>\n",
       "      <th>Allocated_Bandwidth</th>\n",
       "      <th>Resource_Allocation</th>\n",
       "    </tr>\n",
       "  </thead>\n",
       "  <tbody>\n",
       "    <tr>\n",
       "      <th>count</th>\n",
       "      <td>400.000000</td>\n",
       "      <td>400.000000</td>\n",
       "      <td>400.000000</td>\n",
       "      <td>400.000000</td>\n",
       "      <td>400.000000</td>\n",
       "      <td>400.00000</td>\n",
       "      <td>400.000000</td>\n",
       "    </tr>\n",
       "    <tr>\n",
       "      <th>mean</th>\n",
       "      <td>200.500000</td>\n",
       "      <td>5.092500</td>\n",
       "      <td>-80.495000</td>\n",
       "      <td>33.825000</td>\n",
       "      <td>3135.512500</td>\n",
       "      <td>3502.38000</td>\n",
       "      <td>74.712500</td>\n",
       "    </tr>\n",
       "    <tr>\n",
       "      <th>std</th>\n",
       "      <td>115.614301</td>\n",
       "      <td>3.128644</td>\n",
       "      <td>20.701119</td>\n",
       "      <td>21.122139</td>\n",
       "      <td>3984.096715</td>\n",
       "      <td>4460.80117</td>\n",
       "      <td>8.982291</td>\n",
       "    </tr>\n",
       "    <tr>\n",
       "      <th>min</th>\n",
       "      <td>1.000000</td>\n",
       "      <td>0.000000</td>\n",
       "      <td>-123.000000</td>\n",
       "      <td>0.000000</td>\n",
       "      <td>0.000000</td>\n",
       "      <td>0.00000</td>\n",
       "      <td>50.000000</td>\n",
       "    </tr>\n",
       "    <tr>\n",
       "      <th>25%</th>\n",
       "      <td>100.750000</td>\n",
       "      <td>3.000000</td>\n",
       "      <td>-98.000000</td>\n",
       "      <td>21.750000</td>\n",
       "      <td>417.500000</td>\n",
       "      <td>417.50000</td>\n",
       "      <td>70.000000</td>\n",
       "    </tr>\n",
       "    <tr>\n",
       "      <th>50%</th>\n",
       "      <td>200.500000</td>\n",
       "      <td>5.500000</td>\n",
       "      <td>-83.000000</td>\n",
       "      <td>31.000000</td>\n",
       "      <td>1200.000000</td>\n",
       "      <td>1350.00000</td>\n",
       "      <td>70.000000</td>\n",
       "    </tr>\n",
       "    <tr>\n",
       "      <th>75%</th>\n",
       "      <td>300.250000</td>\n",
       "      <td>7.000000</td>\n",
       "      <td>-64.000000</td>\n",
       "      <td>45.000000</td>\n",
       "      <td>4100.000000</td>\n",
       "      <td>4425.00000</td>\n",
       "      <td>80.000000</td>\n",
       "    </tr>\n",
       "    <tr>\n",
       "      <th>max</th>\n",
       "      <td>400.000000</td>\n",
       "      <td>10.000000</td>\n",
       "      <td>-40.000000</td>\n",
       "      <td>110.000000</td>\n",
       "      <td>14500.000000</td>\n",
       "      <td>15800.00000</td>\n",
       "      <td>90.000000</td>\n",
       "    </tr>\n",
       "  </tbody>\n",
       "</table>\n",
       "</div>"
      ],
      "text/plain": [
       "          User_ID  Application_Type  Signal_Strength     Latency  \\\n",
       "count  400.000000        400.000000       400.000000  400.000000   \n",
       "mean   200.500000          5.092500       -80.495000   33.825000   \n",
       "std    115.614301          3.128644        20.701119   21.122139   \n",
       "min      1.000000          0.000000      -123.000000    0.000000   \n",
       "25%    100.750000          3.000000       -98.000000   21.750000   \n",
       "50%    200.500000          5.500000       -83.000000   31.000000   \n",
       "75%    300.250000          7.000000       -64.000000   45.000000   \n",
       "max    400.000000         10.000000       -40.000000  110.000000   \n",
       "\n",
       "       Required_Bandwidth  Allocated_Bandwidth  Resource_Allocation  \n",
       "count          400.000000            400.00000           400.000000  \n",
       "mean          3135.512500           3502.38000            74.712500  \n",
       "std           3984.096715           4460.80117             8.982291  \n",
       "min              0.000000              0.00000            50.000000  \n",
       "25%            417.500000            417.50000            70.000000  \n",
       "50%           1200.000000           1350.00000            70.000000  \n",
       "75%           4100.000000           4425.00000            80.000000  \n",
       "max          14500.000000          15800.00000            90.000000  "
      ]
     },
     "execution_count": 44,
     "metadata": {},
     "output_type": "execute_result"
    }
   ],
   "source": [
    "data.describe()"
   ]
  },
  {
   "cell_type": "markdown",
   "id": "624ca381",
   "metadata": {},
   "source": [
    "# Data Visualization "
   ]
  },
  {
   "cell_type": "code",
   "execution_count": 45,
   "id": "e6806786",
   "metadata": {},
   "outputs": [
    {
     "data": {
      "text/plain": [
       "<Axes: xlabel='Application_Type', ylabel='count'>"
      ]
     },
     "execution_count": 45,
     "metadata": {},
     "output_type": "execute_result"
    },
    {
     "data": {
      "image/png": "[encoded data removed]",
      "text/plain": [
       "<Figure size 640x480 with 1 Axes>"
      ]
     },
     "metadata": {},
     "output_type": "display_data"
    }
   ],
   "source": [
    "sns.countplot(x=data['Application_Type'])"
   ]
  },
  {
   "cell_type": "code",
   "execution_count": 46,
   "id": "7ab2c0d8",
   "metadata": {},
   "outputs": [
    {
     "data": {
      "text/plain": [
       "<seaborn.axisgrid.FacetGrid at 0x1ea7ae89190>"
      ]
     },
     "execution_count": 46,
     "metadata": {},
     "output_type": "execute_result"
    },
    {
     "data": {
      "image/png": "[encoded data removed]",
      "text/plain": [
       "<Figure size 500x500 with 1 Axes>"
      ]
     },
     "metadata": {},
     "output_type": "display_data"
    }
   ],
   "source": [
    "sns.catplot(x = 'Signal_Strength', y = 'Latency', data = data)"
   ]
  },
  {
   "cell_type": "markdown",
   "id": "01a33ae9",
   "metadata": {},
   "source": [
    "# Treating Outliners"
   ]
  },
  {
   "cell_type": "code",
   "execution_count": 47,
   "id": "2565433e",
   "metadata": {},
   "outputs": [],
   "source": [
    "q1 = np.percentile(data['Latency'], 25,method = 'midpoint')\n",
    "q3 = np.percentile(data['Latency'],75,method = 'midpoint')\n",
    "IQR = q3-q1\n",
    "upper = q3+1.5*IQR\n",
    "lower = q1-1.5*IQR\n",
    "upper_value = np.where(data['Latency']>= upper)\n",
    "lower_value = np.where(data['Latency']<= lower)\n",
    "data.drop(upper_value[0],inplace = True)\n",
    "data.drop(lower_value[0],inplace = True)"
   ]
  },
  {
   "cell_type": "code",
   "execution_count": 48,
   "id": "208f37a0",
   "metadata": {},
   "outputs": [
    {
     "data": {
      "text/plain": [
       "<Axes: >"
      ]
     },
     "execution_count": 48,
     "metadata": {},
     "output_type": "execute_result"
    },
    {
     "data": {
      "image/png": "[encoded data removed]",
      "text/plain": [
       "<Figure size 640x480 with 1 Axes>"
      ]
     },
     "metadata": {},
     "output_type": "display_data"
    }
   ],
   "source": [
    "sns.boxplot(data = data['Latency'])"
   ]
  },
  {
   "cell_type": "code",
   "execution_count": 49,
   "id": "ae2ab199",
   "metadata": {},
   "outputs": [],
   "source": [
    "data['Required_Bandwidth']=np.sqrt(data['Required_Bandwidth'])"
   ]
  },
  {
   "cell_type": "code",
   "execution_count": 50,
   "id": "b59695a8",
   "metadata": {},
   "outputs": [
    {
     "data": {
      "text/plain": [
       "<Axes: >"
      ]
     },
     "execution_count": 50,
     "metadata": {},
     "output_type": "execute_result"
    },
    {
     "data": {
      "image/png": "[encoded data removed]",
      "text/plain": [
       "<Figure size 640x480 with 1 Axes>"
      ]
     },
     "metadata": {},
     "output_type": "display_data"
    }
   ],
   "source": [
    "sns.boxplot(data = data['Required_Bandwidth'])"
   ]
  },
  {
   "cell_type": "code",
   "execution_count": 51,
   "id": "6be48d9e",
   "metadata": {},
   "outputs": [],
   "source": [
    "data['Allocated_Bandwidth']=np.sqrt(data['Allocated_Bandwidth'])"
   ]
  },
  {
   "cell_type": "code",
   "execution_count": 52,
   "id": "1c3434d9",
   "metadata": {},
   "outputs": [
    {
     "data": {
      "text/plain": [
       "<Axes: >"
      ]
     },
     "execution_count": 52,
     "metadata": {},
     "output_type": "execute_result"
    },
    {
     "data": {
      "image/png": "[encoded data removed]",
      "text/plain": [
       "<Figure size 640x480 with 1 Axes>"
      ]
     },
     "metadata": {},
     "output_type": "display_data"
    }
   ],
   "source": [
    "sns.boxplot(data = data['Allocated_Bandwidth'])"
   ]
  },
  {
   "cell_type": "code",
   "execution_count": 53,
   "id": "d483ac67",
   "metadata": {},
   "outputs": [
    {
     "data": {
      "text/plain": [
       "<Axes: >"
      ]
     },
     "execution_count": 53,
     "metadata": {},
     "output_type": "execute_result"
    },
    {
     "data": {
      "image/png": "[encoded data removed]",
      "text/plain": [
       "<Figure size 640x480 with 1 Axes>"
      ]
     },
     "metadata": {},
     "output_type": "display_data"
    }
   ],
   "source": [
    "sns.boxplot(data = data)"
   ]
  },
  {
   "cell_type": "code",
   "execution_count": 54,
   "id": "38747da2",
   "metadata": {},
   "outputs": [],
   "source": [
    "df = data"
   ]
  },
  {
   "cell_type": "code",
   "execution_count": 55,
   "id": "e9de044d",
   "metadata": {},
   "outputs": [],
   "source": [
    "def min_max_scaling(column):\n",
    "    min_val = column.min()\n",
    "    max_val = column.max()\n",
    "    return (column - min_val) / (max_val - min_val)"
   ]
  },
  {
   "cell_type": "code",
   "execution_count": 56,
   "id": "650ee36d",
   "metadata": {},
   "outputs": [],
   "source": [
    "Transformed_df = df\n",
    "\n",
    "Transformed_df['Signal_Strength'] = min_max_scaling(df['Signal_Strength'])\n",
    "Transformed_df['Latency'] = min_max_scaling(df['Latency'])\n",
    "Transformed_df['Required_Bandwidth'] = min_max_scaling(df['Required_Bandwidth'])\n",
    "Transformed_df['Allocated_Bandwidth'] = min_max_scaling(df['Allocated_Bandwidth'])\n",
    "Transformed_df['Resource_Allocation'] = min_max_scaling(df['Resource_Allocation'])\n",
    "Transformed_df['Application_Type'] = min_max_scaling(df['Application_Type'])\n",
    "\n",
    "Transformed_df.drop('Timestamp', axis=1, inplace=True)"
   ]
  },
  {
   "cell_type": "code",
   "execution_count": 57,
   "id": "e7892dce",
   "metadata": {},
   "outputs": [],
   "source": [
    "df.drop('User_ID', axis = 1, inplace = True)"
   ]
  },
  {
   "cell_type": "code",
   "execution_count": 58,
   "id": "83d7241b",
   "metadata": {},
   "outputs": [],
   "source": [
    "data = Transformed_df"
   ]
  },
  {
   "cell_type": "code",
   "execution_count": 59,
   "id": "50c1fe4f",
   "metadata": {},
   "outputs": [
    {
     "data": {
      "text/html": [
       "<div>\n",
       "<style scoped>\n",
       "    .dataframe tbody tr th:only-of-type {\n",
       "        vertical-align: middle;\n",
       "    }\n",
       "\n",
       "    .dataframe tbody tr th {\n",
       "        vertical-align: top;\n",
       "    }\n",
       "\n",
       "    .dataframe thead th {\n",
       "        text-align: right;\n",
       "    }\n",
       "</style>\n",
       "<table border=\"1\" class=\"dataframe\">\n",
       "  <thead>\n",
       "    <tr style=\"text-align: right;\">\n",
       "      <th></th>\n",
       "      <th>Application_Type</th>\n",
       "      <th>Signal_Strength</th>\n",
       "      <th>Latency</th>\n",
       "      <th>Required_Bandwidth</th>\n",
       "      <th>Allocated_Bandwidth</th>\n",
       "      <th>Resource_Allocation</th>\n",
       "    </tr>\n",
       "  </thead>\n",
       "  <tbody>\n",
       "    <tr>\n",
       "      <th>0</th>\n",
       "      <td>0.6</td>\n",
       "      <td>0.578313</td>\n",
       "      <td>0.384615</td>\n",
       "      <td>0.830455</td>\n",
       "      <td>0.974355</td>\n",
       "      <td>0.428571</td>\n",
       "    </tr>\n",
       "    <tr>\n",
       "      <th>1</th>\n",
       "      <td>0.9</td>\n",
       "      <td>0.518072</td>\n",
       "      <td>0.256410</td>\n",
       "      <td>0.083045</td>\n",
       "      <td>0.087149</td>\n",
       "      <td>0.714286</td>\n",
       "    </tr>\n",
       "    <tr>\n",
       "      <th>2</th>\n",
       "      <td>0.5</td>\n",
       "      <td>0.457831</td>\n",
       "      <td>0.512821</td>\n",
       "      <td>0.587220</td>\n",
       "      <td>0.616236</td>\n",
       "      <td>0.571429</td>\n",
       "    </tr>\n",
       "    <tr>\n",
       "      <th>3</th>\n",
       "      <td>0.1</td>\n",
       "      <td>0.638554</td>\n",
       "      <td>0.128205</td>\n",
       "      <td>0.262613</td>\n",
       "      <td>0.308118</td>\n",
       "      <td>1.000000</td>\n",
       "    </tr>\n",
       "    <tr>\n",
       "      <th>4</th>\n",
       "      <td>0.4</td>\n",
       "      <td>0.542169</td>\n",
       "      <td>0.320513</td>\n",
       "      <td>0.371391</td>\n",
       "      <td>0.435745</td>\n",
       "      <td>0.857143</td>\n",
       "    </tr>\n",
       "    <tr>\n",
       "      <th>...</th>\n",
       "      <td>...</td>\n",
       "      <td>...</td>\n",
       "      <td>...</td>\n",
       "      <td>...</td>\n",
       "      <td>...</td>\n",
       "      <td>...</td>\n",
       "    </tr>\n",
       "    <tr>\n",
       "      <th>395</th>\n",
       "      <td>0.5</td>\n",
       "      <td>0.156627</td>\n",
       "      <td>0.782051</td>\n",
       "      <td>0.299425</td>\n",
       "      <td>0.337526</td>\n",
       "      <td>0.857143</td>\n",
       "    </tr>\n",
       "    <tr>\n",
       "      <th>396</th>\n",
       "      <td>0.6</td>\n",
       "      <td>1.000000</td>\n",
       "      <td>0.679487</td>\n",
       "      <td>1.000000</td>\n",
       "      <td>1.000000</td>\n",
       "      <td>0.571429</td>\n",
       "    </tr>\n",
       "    <tr>\n",
       "      <th>397</th>\n",
       "      <td>0.7</td>\n",
       "      <td>0.120482</td>\n",
       "      <td>0.743590</td>\n",
       "      <td>0.262613</td>\n",
       "      <td>0.297670</td>\n",
       "      <td>0.428571</td>\n",
       "    </tr>\n",
       "    <tr>\n",
       "      <th>398</th>\n",
       "      <td>0.1</td>\n",
       "      <td>1.000000</td>\n",
       "      <td>0.064103</td>\n",
       "      <td>0.166091</td>\n",
       "      <td>0.159111</td>\n",
       "      <td>0.428571</td>\n",
       "    </tr>\n",
       "    <tr>\n",
       "      <th>399</th>\n",
       "      <td>1.0</td>\n",
       "      <td>0.120482</td>\n",
       "      <td>0.000000</td>\n",
       "      <td>0.083045</td>\n",
       "      <td>0.079556</td>\n",
       "      <td>0.428571</td>\n",
       "    </tr>\n",
       "  </tbody>\n",
       "</table>\n",
       "<p>387 rows × 6 columns</p>\n",
       "</div>"
      ],
      "text/plain": [
       "     Application_Type  Signal_Strength   Latency  Required_Bandwidth  \\\n",
       "0                 0.6         0.578313  0.384615            0.830455   \n",
       "1                 0.9         0.518072  0.256410            0.083045   \n",
       "2                 0.5         0.457831  0.512821            0.587220   \n",
       "3                 0.1         0.638554  0.128205            0.262613   \n",
       "4                 0.4         0.542169  0.320513            0.371391   \n",
       "..                ...              ...       ...                 ...   \n",
       "395               0.5         0.156627  0.782051            0.299425   \n",
       "396               0.6         1.000000  0.679487            1.000000   \n",
       "397               0.7         0.120482  0.743590            0.262613   \n",
       "398               0.1         1.000000  0.064103            0.166091   \n",
       "399               1.0         0.120482  0.000000            0.083045   \n",
       "\n",
       "     Allocated_Bandwidth  Resource_Allocation  \n",
       "0               0.974355             0.428571  \n",
       "1               0.087149             0.714286  \n",
       "2               0.616236             0.571429  \n",
       "3               0.308118             1.000000  \n",
       "4               0.435745             0.857143  \n",
       "..                   ...                  ...  \n",
       "395             0.337526             0.857143  \n",
       "396             1.000000             0.571429  \n",
       "397             0.297670             0.428571  \n",
       "398             0.159111             0.428571  \n",
       "399             0.079556             0.428571  \n",
       "\n",
       "[387 rows x 6 columns]"
      ]
     },
     "execution_count": 59,
     "metadata": {},
     "output_type": "execute_result"
    }
   ],
   "source": [
    "data"
   ]
  },
  {
   "cell_type": "markdown",
   "id": "9598a5c9",
   "metadata": {},
   "source": [
    "# spliting Data"
   ]
  },
  {
   "cell_type": "code",
   "execution_count": 60,
   "id": "c43f7dcf",
   "metadata": {},
   "outputs": [],
   "source": [
    "x = data.drop('Resource_Allocation',axis = 1)\n",
    "y = data['Resource_Allocation']"
   ]
  },
  {
   "cell_type": "code",
   "execution_count": 61,
   "id": "6239219a",
   "metadata": {},
   "outputs": [],
   "source": [
    "from sklearn.model_selection import train_test_split\n",
    "xtrain,xtest,ytrain,ytest = train_test_split(x,y,test_size = .20 , random_state = 42)"
   ]
  },
  {
   "cell_type": "code",
   "execution_count": 62,
   "id": "6175b75e",
   "metadata": {},
   "outputs": [
    {
     "data": {
      "text/plain": [
       "((309, 5), (78, 5), (309,), (78,))"
      ]
     },
     "execution_count": 62,
     "metadata": {},
     "output_type": "execute_result"
    }
   ],
   "source": [
    "xtrain.shape,xtest.shape,ytrain.shape,ytest.shape"
   ]
  },
  {
   "cell_type": "markdown",
   "id": "6a107135",
   "metadata": {},
   "source": [
    "# Linear Regression"
   ]
  },
  {
   "cell_type": "code",
   "execution_count": 63,
   "id": "427ae5fc",
   "metadata": {},
   "outputs": [],
   "source": [
    "from sklearn.linear_model import LinearRegression\n",
    "lr = LinearRegression()\n",
    "ll = lr.fit(xtrain,ytrain)"
   ]
  },
  {
   "cell_type": "code",
   "execution_count": 64,
   "id": "4290fff9",
   "metadata": {},
   "outputs": [
    {
     "data": {
      "text/plain": [
       "array([0.46431963, 0.54557824, 0.66266106, 0.50687479, 0.56175274,\n",
       "       0.47850468, 0.51264746, 0.5494439 , 0.98015711, 0.44523767,\n",
       "       0.50324346, 0.64215111, 0.85288799, 0.43994748, 0.59902687,\n",
       "       0.66002201, 0.56981037, 0.4449926 , 0.65279977, 0.56981037,\n",
       "       0.55884612, 0.50001031, 0.53374967, 0.70062959, 0.21948588,\n",
       "       0.40970985, 0.56179201, 0.22196151, 0.57259853, 1.69107432,\n",
       "       0.42299616, 0.66848584, 0.26193822, 0.56965131, 0.4925175 ,\n",
       "       1.2614217 , 0.66882776, 0.20272638, 0.71809035, 0.16453166,\n",
       "       0.66829933, 0.51428501, 0.61506358, 1.02825865, 0.59927239,\n",
       "       0.20709956, 0.43101452, 0.51033361, 0.78987202, 0.77850776,\n",
       "       0.55603702, 0.68459208, 0.57741718, 0.5097848 , 0.6745158 ,\n",
       "       0.64640574, 0.50778455, 0.18251177, 0.54986356, 0.93947958,\n",
       "       0.61925085, 0.75469588, 0.24566128, 0.76206098, 0.37592547,\n",
       "       0.5617903 , 0.66574441, 0.68065535, 0.58785664, 1.19418349,\n",
       "       0.58785664, 0.51264746, 0.81033334, 0.74011803, 0.55461516,\n",
       "       0.67454158, 0.15745338, 0.55379235])"
      ]
     },
     "execution_count": 64,
     "metadata": {},
     "output_type": "execute_result"
    }
   ],
   "source": [
    "ypred = lr.predict(xtest)\n",
    "ypred"
   ]
  },
  {
   "cell_type": "code",
   "execution_count": 65,
   "id": "11382363",
   "metadata": {},
   "outputs": [
    {
     "data": {
      "text/plain": [
       "0.2632118221904969"
      ]
     },
     "execution_count": 65,
     "metadata": {},
     "output_type": "execute_result"
    }
   ],
   "source": [
    "from sklearn.metrics import r2_score\n",
    "acc = r2_score(ytest,ypred)\n",
    "acc"
   ]
  },
  {
   "cell_type": "markdown",
   "id": "98c1af22",
   "metadata": {},
   "source": [
    "# DecisionTree"
   ]
  },
  {
   "cell_type": "code",
   "execution_count": 66,
   "id": "d8176d66",
   "metadata": {},
   "outputs": [],
   "source": [
    "from sklearn.tree import DecisionTreeRegressor\n",
    "dt = DecisionTreeRegressor(random_state = 42)\n",
    "tree = dt.fit(xtrain,ytrain)"
   ]
  },
  {
   "cell_type": "code",
   "execution_count": 67,
   "id": "b97a80a3",
   "metadata": {},
   "outputs": [],
   "source": [
    "ypre = dt.predict(xtest)"
   ]
  },
  {
   "cell_type": "code",
   "execution_count": 68,
   "id": "7aa25f63",
   "metadata": {},
   "outputs": [
    {
     "data": {
      "text/plain": [
       "0.7919904363419007"
      ]
     },
     "execution_count": 68,
     "metadata": {},
     "output_type": "execute_result"
    }
   ],
   "source": [
    "ac = r2_score(ytest,ypre)\n",
    "ac"
   ]
  },
  {
   "cell_type": "markdown",
   "id": "c8a23ef9",
   "metadata": {},
   "source": [
    "# RandomForest"
   ]
  },
  {
   "cell_type": "code",
   "execution_count": 69,
   "id": "78d561e5",
   "metadata": {},
   "outputs": [],
   "source": [
    "from sklearn.ensemble import RandomForestRegressor\n",
    "rf = RandomForestRegressor()\n",
    "rff = rf.fit(xtrain,ytrain)"
   ]
  },
  {
   "cell_type": "code",
   "execution_count": 70,
   "id": "a3721836",
   "metadata": {},
   "outputs": [
    {
     "data": {
      "text/plain": [
       "array([0.42857143, 0.43      , 0.99428571, 0.42857143, 0.42857143,\n",
       "       0.42857143, 0.42857143, 0.42857143, 1.        , 0.42857143,\n",
       "       0.71571429, 0.88285714, 1.        , 0.42857143, 0.42857143,\n",
       "       0.57142857, 0.42857143, 0.43      , 0.57142857, 0.42857143,\n",
       "       0.41657143, 0.71428571, 0.71571429, 0.47857143, 0.14285714,\n",
       "       0.43238095, 0.42857143, 0.14285714, 0.71428571, 0.43142857,\n",
       "       0.42857143, 0.57142857, 0.11285714, 0.42857143, 0.71428571,\n",
       "       1.        , 1.        , 0.14285714, 0.57142857, 0.14285714,\n",
       "       1.        , 0.64857143, 0.42857143, 1.        , 0.95285714,\n",
       "       0.14285714, 0.42857143, 0.72428571, 0.45571429, 0.60571429,\n",
       "       0.85714286, 0.42857143, 0.57142857, 0.42857143, 0.96142857,\n",
       "       0.84857143, 0.42857143, 0.14285714, 0.71571429, 1.        ,\n",
       "       0.85714286, 0.57142857, 0.14285714, 0.92142857, 0.05571429,\n",
       "       0.48      , 1.        , 0.84428571, 0.83571429, 1.        ,\n",
       "       0.83571429, 0.42857143, 0.44      , 0.53      , 0.45      ,\n",
       "       0.57142857, 0.14285714, 0.46857143])"
      ]
     },
     "execution_count": 70,
     "metadata": {},
     "output_type": "execute_result"
    }
   ],
   "source": [
    "ypr = rf.predict(xtest)\n",
    "ypr"
   ]
  },
  {
   "cell_type": "code",
   "execution_count": 71,
   "id": "a99ebf60",
   "metadata": {},
   "outputs": [
    {
     "data": {
      "text/plain": [
       "0.8809794365411436"
      ]
     },
     "execution_count": 71,
     "metadata": {},
     "output_type": "execute_result"
    }
   ],
   "source": [
    "accc= r2_score(ytest,ypr)\n",
    "accc"
   ]
  },
  {
   "cell_type": "code",
   "execution_count": 72,
   "id": "d48f4f6a",
   "metadata": {},
   "outputs": [],
   "source": [
    "import pickle \n",
    "pickle.dump(rf,open('5G quality.pkl','wb'))"
   ]
  },
  {
   "cell_type": "code",
   "execution_count": null,
   "id": "1ba5c590",
   "metadata": {},
   "outputs": [],
   "source": []
  }
 ],
 "metadata": {
  "kernelspec": {
   "display_name": "Python 3 (ipykernel)",
   "language": "python",
   "name": "python3"
  },
  "language_info": {
   "codemirror_mode": {
    "name": "ipython",
    "version": 3
   },
   "file_extension": ".py",
   "mimetype": "text/x-python",
   "name": "python",
   "nbconvert_exporter": "python",
   "pygments_lexer": "ipython3",
   "version": "3.11.3"
  }
 },
 "nbformat": 4,
 "nbformat_minor": 5
}
